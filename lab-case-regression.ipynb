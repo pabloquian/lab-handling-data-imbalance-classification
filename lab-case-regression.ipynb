{
 "cells": [
  {
   "cell_type": "markdown",
   "id": "efde5109",
   "metadata": {},
   "source": [
    "# Lab | Final regression model in \"Health Care for All\" Case\n",
    "\n",
    "### Instructions\n",
    "\n",
    "At this point, we have created a model to predict who will make a donation and who won't (Classification Model). But, what about the ammount of money that each person will give?\n",
    "\n",
    "In this lab, subset those that have made a donation (Target B) and use that subset to create a model to predict how much money will they give (Target D) (Regression Model).\n",
    "\n",
    "- Only look at people who have donated (Target B = 1)\n",
    "- Use this new dataframe to create a model to predict how much they will donate (Target D)\n",
    "- Using the regression model, make predictions on all of the people our classification model predicted will donate.\n",
    "- See the pdf file for a schema of the process.\n",
    "\n",
    "Evaluate the result of your model and estimate how much better the result are for the business in comparison with the naive scenario we discuss on Monday. (Just sending donation cards to everyone)"
   ]
  },
  {
   "cell_type": "code",
   "execution_count": null,
   "id": "f4f42e7a",
   "metadata": {},
   "outputs": [],
   "source": [
    "clf_model = pickle.load(open('clf2_rand_forest.p','rb'))clf2"
   ]
  },
  {
   "cell_type": "code",
   "execution_count": null,
   "id": "493e390d",
   "metadata": {},
   "outputs": [],
   "source": []
  },
  {
   "cell_type": "code",
   "execution_count": null,
   "id": "e736cdfd",
   "metadata": {},
   "outputs": [],
   "source": []
  }
 ],
 "metadata": {
  "kernelspec": {
   "display_name": "Python 3 (ipykernel)",
   "language": "python",
   "name": "python3"
  },
  "language_info": {
   "codemirror_mode": {
    "name": "ipython",
    "version": 3
   },
   "file_extension": ".py",
   "mimetype": "text/x-python",
   "name": "python",
   "nbconvert_exporter": "python",
   "pygments_lexer": "ipython3",
   "version": "3.11.5"
  }
 },
 "nbformat": 4,
 "nbformat_minor": 5
}
